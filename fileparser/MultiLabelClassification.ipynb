{
 "cells": [
  {
   "cell_type": "code",
   "execution_count": 1,
   "metadata": {},
   "outputs": [],
   "source": [
    "%matplotlib inline\n",
    "import re\n",
    "import matplotlib\n",
    "import numpy as np\n",
    "import matplotlib.pyplot as plt\n",
    "import pandas as pd\n",
    "from sklearn.model_selection import train_test_split\n",
    "from sklearn.feature_extraction.text import TfidfVectorizer\n",
    "from sklearn.naive_bayes import MultinomialNB\n",
    "from sklearn.metrics import accuracy_score\n",
    "from sklearn.metrics import recall_score\n",
    "from sklearn.metrics import precision_score\n",
    "from sklearn.multiclass import OneVsRestClassifier\n",
    "from nltk.corpus import stopwords\n",
    "stop_words = set(stopwords.words('english'))\n",
    "from sklearn.svm import LinearSVC\n",
    "from sklearn.linear_model import LogisticRegression\n",
    "from sklearn.pipeline import Pipeline\n",
    "import seaborn as sns"
   ]
  },
  {
   "cell_type": "code",
   "execution_count": 2,
   "metadata": {},
   "outputs": [
    {
     "name": "stderr",
     "output_type": "stream",
     "text": [
      "/Library/Frameworks/Python.framework/Versions/3.7/lib/python3.7/site-packages/IPython/core/interactiveshell.py:3044: DtypeWarning: Columns (9,10) have mixed types. Specify dtype option on import or set low_memory=False.\n",
      "  interactivity=interactivity, compiler=compiler, result=result)\n"
     ]
    }
   ],
   "source": [
    "df = pd.read_csv(\"output/annotated youtube videos/ytcomments.csv\")"
   ]
  },
  {
   "cell_type": "code",
   "execution_count": 3,
   "metadata": {},
   "outputs": [
    {
     "data": {
      "text/plain": [
       "['text', 'categories']"
      ]
     },
     "execution_count": 3,
     "metadata": {},
     "output_type": "execute_result"
    }
   ],
   "source": [
    "df[\"categories\"]\n",
    "df = df[[\"text\",\"categories\"]]\n",
    "df.columns = [\"text\",\"categories\"]\n",
    "categories = list(df.columns.values)\n",
    "categories"
   ]
  },
  {
   "cell_type": "code",
   "execution_count": 4,
   "metadata": {},
   "outputs": [],
   "source": [
    "#deze eruit gehaald om te testen zonder none\n",
    "df = df.fillna(\" none\")\n",
    "df = df[df.categories != \" none\"]\n",
    "\n",
    "df.categories = df.categories.str.replace(\"[\",\"\")\n",
    "df.categories = df.categories.str.replace(\"]\",\"\")\n",
    "df.categories = df.categories.str.replace(\",\",\"\")\n",
    "df.categories = df.categories.str.replace(\"'\",\"\")\n",
    "df.categories = df.categories.str.split()\n"
   ]
  },
  {
   "cell_type": "code",
   "execution_count": 5,
   "metadata": {},
   "outputs": [],
   "source": [
    "from sklearn.preprocessing import MultiLabelBinarizer\n",
    "\n",
    "mlb = MultiLabelBinarizer()\n",
    "df = df.join(pd.DataFrame(mlb.fit_transform(df.pop('categories')),\n",
    "                          columns=mlb.classes_,\n",
    "                          index=df.index))\n",
    "df.drop([\"7.0\",\"4.0\"],axis=1,inplace=True)"
   ]
  },
  {
   "cell_type": "code",
   "execution_count": 6,
   "metadata": {},
   "outputs": [
    {
     "data": {
      "text/html": [
       "<div>\n",
       "<style scoped>\n",
       "    .dataframe tbody tr th:only-of-type {\n",
       "        vertical-align: middle;\n",
       "    }\n",
       "\n",
       "    .dataframe tbody tr th {\n",
       "        vertical-align: top;\n",
       "    }\n",
       "\n",
       "    .dataframe thead th {\n",
       "        text-align: right;\n",
       "    }\n",
       "</style>\n",
       "<table border=\"1\" class=\"dataframe\">\n",
       "  <thead>\n",
       "    <tr style=\"text-align: right;\">\n",
       "      <th></th>\n",
       "      <th>category</th>\n",
       "      <th>number_of_comments</th>\n",
       "    </tr>\n",
       "  </thead>\n",
       "  <tbody>\n",
       "    <tr>\n",
       "      <th>0</th>\n",
       "      <td>composer</td>\n",
       "      <td>126</td>\n",
       "    </tr>\n",
       "    <tr>\n",
       "      <th>1</th>\n",
       "      <td>composition</td>\n",
       "      <td>321</td>\n",
       "    </tr>\n",
       "    <tr>\n",
       "      <th>2</th>\n",
       "      <td>experience</td>\n",
       "      <td>48</td>\n",
       "    </tr>\n",
       "    <tr>\n",
       "      <th>3</th>\n",
       "      <td>genre</td>\n",
       "      <td>13</td>\n",
       "    </tr>\n",
       "    <tr>\n",
       "      <th>4</th>\n",
       "      <td>media_host</td>\n",
       "      <td>14</td>\n",
       "    </tr>\n",
       "    <tr>\n",
       "      <th>5</th>\n",
       "      <td>media_host_related</td>\n",
       "      <td>2</td>\n",
       "    </tr>\n",
       "    <tr>\n",
       "      <th>6</th>\n",
       "      <td>original_poster</td>\n",
       "      <td>61</td>\n",
       "    </tr>\n",
       "    <tr>\n",
       "      <th>7</th>\n",
       "      <td>parallel_activities</td>\n",
       "      <td>13</td>\n",
       "    </tr>\n",
       "    <tr>\n",
       "      <th>8</th>\n",
       "      <td>performance</td>\n",
       "      <td>277</td>\n",
       "    </tr>\n",
       "    <tr>\n",
       "      <th>9</th>\n",
       "      <td>performer</td>\n",
       "      <td>31</td>\n",
       "    </tr>\n",
       "    <tr>\n",
       "      <th>10</th>\n",
       "      <td>posted_content</td>\n",
       "      <td>80</td>\n",
       "    </tr>\n",
       "    <tr>\n",
       "      <th>11</th>\n",
       "      <td>related_artist</td>\n",
       "      <td>1</td>\n",
       "    </tr>\n",
       "    <tr>\n",
       "      <th>12</th>\n",
       "      <td>related_composer</td>\n",
       "      <td>33</td>\n",
       "    </tr>\n",
       "    <tr>\n",
       "      <th>13</th>\n",
       "      <td>related_composition</td>\n",
       "      <td>8</td>\n",
       "    </tr>\n",
       "    <tr>\n",
       "      <th>14</th>\n",
       "      <td>related_content</td>\n",
       "      <td>1</td>\n",
       "    </tr>\n",
       "    <tr>\n",
       "      <th>15</th>\n",
       "      <td>related_genre</td>\n",
       "      <td>6</td>\n",
       "    </tr>\n",
       "    <tr>\n",
       "      <th>16</th>\n",
       "      <td>related_media</td>\n",
       "      <td>9</td>\n",
       "    </tr>\n",
       "    <tr>\n",
       "      <th>17</th>\n",
       "      <td>related_media_host</td>\n",
       "      <td>5</td>\n",
       "    </tr>\n",
       "    <tr>\n",
       "      <th>18</th>\n",
       "      <td>related_performer</td>\n",
       "      <td>3</td>\n",
       "    </tr>\n",
       "    <tr>\n",
       "      <th>19</th>\n",
       "      <td>spam_candidates</td>\n",
       "      <td>174</td>\n",
       "    </tr>\n",
       "    <tr>\n",
       "      <th>20</th>\n",
       "      <td>users_general</td>\n",
       "      <td>76</td>\n",
       "    </tr>\n",
       "  </tbody>\n",
       "</table>\n",
       "</div>"
      ],
      "text/plain": [
       "               category  number_of_comments\n",
       "0              composer                 126\n",
       "1           composition                 321\n",
       "2            experience                  48\n",
       "3                 genre                  13\n",
       "4            media_host                  14\n",
       "5    media_host_related                   2\n",
       "6       original_poster                  61\n",
       "7   parallel_activities                  13\n",
       "8           performance                 277\n",
       "9             performer                  31\n",
       "10       posted_content                  80\n",
       "11       related_artist                   1\n",
       "12     related_composer                  33\n",
       "13  related_composition                   8\n",
       "14      related_content                   1\n",
       "15        related_genre                   6\n",
       "16        related_media                   9\n",
       "17   related_media_host                   5\n",
       "18    related_performer                   3\n",
       "19      spam_candidates                 174\n",
       "20        users_general                  76"
      ]
     },
     "execution_count": 6,
     "metadata": {},
     "output_type": "execute_result"
    }
   ],
   "source": [
    "df_toxic = df.drop(['text'], axis=1)\n",
    "counts = []\n",
    "categories = list(df_toxic.columns.values)\n",
    "for i in categories:\n",
    "    counts.append((i, df_toxic[i].sum()))\n",
    "df_stats = pd.DataFrame(counts, columns=['category', 'number_of_comments'])\n",
    "df_stats"
   ]
  },
  {
   "cell_type": "code",
   "execution_count": 7,
   "metadata": {},
   "outputs": [
    {
     "data": {
      "text/plain": [
       "Text(0.5, 0, 'category')"
      ]
     },
     "execution_count": 7,
     "metadata": {},
     "output_type": "execute_result"
    },
    {
     "data": {
      "image/png": "[encoded data removed]",
      "text/plain": [
       "<Figure size 576x360 with 1 Axes>"
      ]
     },
     "metadata": {
      "needs_background": "light"
     },
     "output_type": "display_data"
    }
   ],
   "source": [
    "df_stats.plot(x='category', y='number_of_comments', kind='bar', legend=False, grid=True, figsize=(8, 5))\n",
    "plt.title(\"Number of comments per category\")\n",
    "plt.ylabel('# of Occurrences', fontsize=12)\n",
    "plt.xlabel('category', fontsize=12)"
   ]
  },
  {
   "cell_type": "code",
   "execution_count": 8,
   "metadata": {},
   "outputs": [
    {
     "data": {
      "text/plain": [
       "Text(0.5, 0, '# of categories')"
      ]
     },
     "execution_count": 8,
     "metadata": {},
     "output_type": "execute_result"
    },
    {
     "data": {
      "image/png": "[encoded data removed]",
      "text/plain": [
       "<Figure size 576x360 with 1 Axes>"
      ]
     },
     "metadata": {
      "needs_background": "light"
     },
     "output_type": "display_data"
    }
   ],
   "source": [
    "rowsums = df.iloc[:,2:].sum(axis=1)\n",
    "x=rowsums.value_counts()\n",
    "#plot\n",
    "plt.figure(figsize=(8,5))\n",
    "ax = sns.barplot(x.index, x.values)\n",
    "plt.title(\"Multiple categories per comment\")\n",
    "plt.ylabel('# of Occurrences', fontsize=12)\n",
    "plt.xlabel('# of categories', fontsize=12)"
   ]
  },
  {
   "cell_type": "code",
   "execution_count": 9,
   "metadata": {},
   "outputs": [],
   "source": [
    "def clean_text(text):\n",
    "    text = text.lower()\n",
    "    text = re.sub(r\"what's\", \"what is \", text)\n",
    "    text = re.sub(r\"\\'s\", \" \", text)\n",
    "    text = re.sub(r\"\\'ve\", \" have \", text)\n",
    "    text = re.sub(r\"can't\", \"can not \", text)\n",
    "    text = re.sub(r\"n't\", \" not \", text)\n",
    "    text = re.sub(r\"i'm\", \"i am \", text)\n",
    "    text = re.sub(r\"\\'re\", \" are \", text)\n",
    "    text = re.sub(r\"\\'d\", \" would \", text)\n",
    "    text = re.sub(r\"\\'ll\", \" will \", text)\n",
    "    text = re.sub(r\"\\'scuse\", \" excuse \", text)\n",
    "    text = re.sub('\\W', ' ', text)\n",
    "    text = re.sub('\\s+', ' ', text)\n",
    "    text = re.sub('$', '', text)\n",
    "    text = text.strip(' ')\n",
    "    return text\n",
    "df.rename(columns={\"text\":\"comment_text\"}, inplace=True)\n"
   ]
  },
  {
   "cell_type": "code",
   "execution_count": 10,
   "metadata": {},
   "outputs": [],
   "source": [
    "df['comment_text'] = df['comment_text'].map(lambda com : clean_text(com))\n"
   ]
  },
  {
   "cell_type": "code",
   "execution_count": 11,
   "metadata": {},
   "outputs": [
    {
     "data": {
      "text/plain": [
       "Index(['composer', 'composition', 'experience', 'genre', 'media_host',\n",
       "       'media_host_related', 'original_poster', 'parallel_activities',\n",
       "       'performance', 'performer', 'posted_content', 'related_artist',\n",
       "       'related_composer', 'related_composition', 'related_content',\n",
       "       'related_genre', 'related_media', 'related_media_host',\n",
       "       'related_performer', 'spam_candidates', 'users_general'],\n",
       "      dtype='object')"
      ]
     },
     "execution_count": 11,
     "metadata": {},
     "output_type": "execute_result"
    }
   ],
   "source": [
    "x = df.drop(\"comment_text\", axis=1)\n",
    "x.columns"
   ]
  },
  {
   "cell_type": "code",
   "execution_count": 12,
   "metadata": {},
   "outputs": [
    {
     "name": "stdout",
     "output_type": "stream",
     "text": [
      "(565,)\n",
      "(279,)\n"
     ]
    }
   ],
   "source": [
    "categories = x.columns\n",
    "train, test = train_test_split(df, random_state=42, test_size=0.33, shuffle=True)\n",
    "X_train = train.comment_text\n",
    "X_test = test.comment_text\n",
    "print(X_train.shape)\n",
    "print(X_test.shape)"
   ]
  },
  {
   "cell_type": "code",
   "execution_count": null,
   "metadata": {},
   "outputs": [],
   "source": []
  },
  {
   "cell_type": "code",
   "execution_count": 13,
   "metadata": {},
   "outputs": [
    {
     "name": "stdout",
     "output_type": "stream",
     "text": [
      "... Processing composer\n",
      "Test accuracy is 0.8422939068100358\n",
      "Test recall is 0.0\n",
      "Test precision is 0.0\n",
      "... Processing composition\n",
      "Test accuracy is 0.6487455197132617\n",
      "Test recall is 0.22935779816513763\n",
      "Test precision is 0.22935779816513763\n",
      "... Processing experience\n",
      "Test accuracy is 0.9390681003584229\n",
      "Test recall is 0.0\n",
      "Test precision is 0.0\n",
      "... Processing genre\n",
      "Test accuracy is 0.982078853046595\n",
      "Test recall is 0.0\n",
      "Test precision is 0.0\n",
      "... Processing media_host\n",
      "Test accuracy is 0.996415770609319\n",
      "Test recall is 0.0\n",
      "Test precision is 0.0\n",
      "... Processing media_host_related\n",
      "Test accuracy is 0.996415770609319\n",
      "Test recall is 0.0\n",
      "Test precision is 0.0\n",
      "... Processing original_poster\n",
      "Test accuracy is 0.9175627240143369\n",
      "Test recall is 0.0\n",
      "Test precision is 0.0\n",
      "... Processing parallel_activities\n",
      "Test accuracy is 0.982078853046595\n",
      "Test recall is 0.0\n",
      "Test precision is 0.0\n",
      "... Processing performance\n",
      "Test accuracy is 0.7275985663082437\n",
      "Test recall is 0.19540229885057472\n",
      "Test precision is 0.19540229885057472\n",
      "... Processing performer\n",
      "Test accuracy is 0.96415770609319\n",
      "Test recall is 0.0\n",
      "Test precision is 0.0\n",
      "... Processing posted_content\n",
      "Test accuracy is 0.9139784946236559\n",
      "Test recall is 0.0\n",
      "Test precision is 0.0\n",
      "... Processing related_artist\n",
      "Test accuracy is 0.996415770609319\n",
      "Test recall is 0.0\n",
      "Test precision is 0.0\n",
      "... Processing related_composer\n",
      "Test accuracy is 0.953405017921147\n",
      "Test recall is 0.0\n",
      "Test precision is 0.0\n",
      "... Processing related_composition\n",
      "Test accuracy is 0.982078853046595\n",
      "Test recall is 0.0\n",
      "Test precision is 0.0\n",
      "... Processing related_content\n"
     ]
    },
    {
     "name": "stderr",
     "output_type": "stream",
     "text": [
      "/Library/Frameworks/Python.framework/Versions/3.7/lib/python3.7/site-packages/sklearn/multiclass.py:76: UserWarning: Label not 0 is present in all training examples.\n",
      "  str(classes[c]))\n"
     ]
    },
    {
     "name": "stdout",
     "output_type": "stream",
     "text": [
      "Test accuracy is 1.0\n",
      "Test recall is 0.0\n",
      "Test precision is 0.0\n",
      "... Processing related_genre\n",
      "Test accuracy is 0.989247311827957\n",
      "Test recall is 0.0\n",
      "Test precision is 0.0\n",
      "... Processing related_media\n",
      "Test accuracy is 0.992831541218638\n",
      "Test recall is 0.0\n",
      "Test precision is 0.0\n",
      "... Processing related_media_host\n",
      "Test accuracy is 0.996415770609319\n",
      "Test recall is 0.0\n",
      "Test precision is 0.0\n",
      "... Processing related_performer\n",
      "Test accuracy is 1.0\n",
      "Test recall is 0.0\n",
      "Test precision is 0.0\n",
      "... Processing spam_candidates\n",
      "Test accuracy is 0.8064516129032258\n",
      "Test recall is 0.07017543859649122\n",
      "Test precision is 0.07017543859649122\n",
      "... Processing users_general\n",
      "Test accuracy is 0.9175627240143369\n",
      "Test recall is 0.0\n",
      "Test precision is 0.0\n"
     ]
    }
   ],
   "source": [
    "NB_pipeline = Pipeline([\n",
    "                ('tfidf', TfidfVectorizer(stop_words=stop_words)),\n",
    "                ('clf', OneVsRestClassifier(MultinomialNB(\n",
    "                    fit_prior=True, class_prior=None))),\n",
    "            ])\n",
    "for category in categories:\n",
    "    print('... Processing {}'.format(category))\n",
    "    # train the model using X_dtm & y\n",
    "    NB_pipeline.fit(X_train, train[category])\n",
    "    # compute the testing accuracy\n",
    "    prediction = NB_pipeline.predict(X_test)\n",
    "    print('Test accuracy is {}'.format(accuracy_score(test[category], prediction)))\n",
    "    print('Test recall is {}'.format(recall_score(test[category], prediction)))\n",
    "    print('Test precision is {}'.format(recall_score(test[category], prediction)))"
   ]
  },
  {
   "cell_type": "code",
   "execution_count": 14,
   "metadata": {},
   "outputs": [
    {
     "name": "stdout",
     "output_type": "stream",
     "text": [
      "... Processing composer\n",
      "Test accuracy is 0.8924731182795699\n",
      "Test recall is 0.4318181818181818\n",
      "Test precision is 0.4318181818181818\n",
      "... Processing composition\n",
      "Test accuracy is 0.6774193548387096\n",
      "Test recall is 0.4036697247706422\n",
      "Test precision is 0.4036697247706422\n",
      "... Processing experience\n",
      "Test accuracy is 0.9390681003584229\n",
      "Test recall is 0.058823529411764705\n",
      "Test precision is 0.058823529411764705\n",
      "... Processing genre\n",
      "Test accuracy is 0.982078853046595\n",
      "Test recall is 0.0\n",
      "Test precision is 0.0\n",
      "... Processing media_host\n",
      "Test accuracy is 0.996415770609319\n",
      "Test recall is 0.0\n",
      "Test precision is 0.0\n",
      "... Processing media_host_related\n",
      "Test accuracy is 0.996415770609319\n",
      "Test recall is 0.0\n",
      "Test precision is 0.0\n",
      "... Processing original_poster\n",
      "Test accuracy is 0.9390681003584229\n",
      "Test recall is 0.34782608695652173\n",
      "Test precision is 0.34782608695652173\n",
      "... Processing parallel_activities\n",
      "Test accuracy is 0.982078853046595\n",
      "Test recall is 0.0\n",
      "Test precision is 0.0\n",
      "... Processing performance\n",
      "Test accuracy is 0.7311827956989247\n",
      "Test recall is 0.4827586206896552\n",
      "Test precision is 0.4827586206896552\n",
      "... Processing performer\n",
      "Test accuracy is 0.967741935483871\n",
      "Test recall is 0.1\n",
      "Test precision is 0.1\n",
      "... Processing posted_content\n",
      "Test accuracy is 0.921146953405018\n",
      "Test recall is 0.16666666666666666\n",
      "Test precision is 0.16666666666666666\n",
      "... Processing related_artist\n",
      "Test accuracy is 0.996415770609319\n",
      "Test recall is 0.0\n",
      "Test precision is 0.0\n",
      "... Processing related_composer\n",
      "Test accuracy is 0.956989247311828\n",
      "Test recall is 0.07692307692307693\n",
      "Test precision is 0.07692307692307693\n",
      "... Processing related_composition\n",
      "Test accuracy is 0.982078853046595\n"
     ]
    },
    {
     "name": "stderr",
     "output_type": "stream",
     "text": [
      "/Library/Frameworks/Python.framework/Versions/3.7/lib/python3.7/site-packages/sklearn/multiclass.py:76: UserWarning: Label not 0 is present in all training examples.\n",
      "  str(classes[c]))\n"
     ]
    },
    {
     "name": "stdout",
     "output_type": "stream",
     "text": [
      "Test recall is 0.0\n",
      "Test precision is 0.0\n",
      "... Processing related_content\n",
      "Test accuracy is 1.0\n",
      "Test recall is 0.0\n",
      "Test precision is 0.0\n",
      "... Processing related_genre\n",
      "Test accuracy is 0.989247311827957\n",
      "Test recall is 0.0\n",
      "Test precision is 0.0\n",
      "... Processing related_media\n",
      "Test accuracy is 0.992831541218638\n",
      "Test recall is 0.0\n",
      "Test precision is 0.0\n",
      "... Processing related_media_host\n",
      "Test accuracy is 0.996415770609319\n",
      "Test recall is 0.0\n",
      "Test precision is 0.0\n",
      "... Processing related_performer\n",
      "Test accuracy is 1.0\n",
      "Test recall is 0.0\n",
      "Test precision is 0.0\n",
      "... Processing spam_candidates\n",
      "Test accuracy is 0.7921146953405018\n",
      "Test recall is 0.14035087719298245\n",
      "Test precision is 0.14035087719298245\n",
      "... Processing users_general\n",
      "Test accuracy is 0.9139784946236559\n",
      "Test recall is 0.043478260869565216\n",
      "Test precision is 0.043478260869565216\n"
     ]
    }
   ],
   "source": [
    "SVC_pipeline = Pipeline([\n",
    "                ('tfidf', TfidfVectorizer(stop_words=stop_words)),\n",
    "                ('clf', OneVsRestClassifier(LinearSVC(), n_jobs=1)),\n",
    "            ])\n",
    "for category in categories:\n",
    "    print('... Processing {}'.format(category))\n",
    "    # train the model using X_dtm & y\n",
    "    SVC_pipeline.fit(X_train, train[category])\n",
    "    # compute the testing accuracy\n",
    "    prediction = SVC_pipeline.predict(X_test)\n",
    "    print('Test accuracy is {}'.format(accuracy_score(test[category], prediction)))\n",
    "    print('Test recall is {}'.format(recall_score(test[category], prediction)))\n",
    "    print('Test precision is {}'.format(recall_score(test[category], prediction)))"
   ]
  },
  {
   "cell_type": "code",
   "execution_count": 15,
   "metadata": {},
   "outputs": [
    {
     "ename": "KeyError",
     "evalue": "1",
     "output_type": "error",
     "traceback": [
      "\u001b[0;31m---------------------------------------------------------------------------\u001b[0m",
      "\u001b[0;31mKeyError\u001b[0m                                  Traceback (most recent call last)",
      "\u001b[0;32m<ipython-input-15-10821c4687bb>\u001b[0m in \u001b[0;36m<module>\u001b[0;34m\u001b[0m\n\u001b[0;32m----> 1\u001b[0;31m \u001b[0mSVC_pipeline\u001b[0m\u001b[0;34m.\u001b[0m\u001b[0mpredict\u001b[0m\u001b[0;34m(\u001b[0m\u001b[0;34m[\u001b[0m\u001b[0mX_test\u001b[0m\u001b[0;34m[\u001b[0m\u001b[0;36m1\u001b[0m\u001b[0;34m]\u001b[0m\u001b[0;34m]\u001b[0m\u001b[0;34m)\u001b[0m\u001b[0;34m\u001b[0m\u001b[0;34m\u001b[0m\u001b[0m\n\u001b[0m",
      "\u001b[0;32m/Library/Frameworks/Python.framework/Versions/3.7/lib/python3.7/site-packages/pandas/core/series.py\u001b[0m in \u001b[0;36m__getitem__\u001b[0;34m(self, key)\u001b[0m\n\u001b[1;32m    765\u001b[0m         \u001b[0mkey\u001b[0m \u001b[0;34m=\u001b[0m \u001b[0mcom\u001b[0m\u001b[0;34m.\u001b[0m\u001b[0m_apply_if_callable\u001b[0m\u001b[0;34m(\u001b[0m\u001b[0mkey\u001b[0m\u001b[0;34m,\u001b[0m \u001b[0mself\u001b[0m\u001b[0;34m)\u001b[0m\u001b[0;34m\u001b[0m\u001b[0;34m\u001b[0m\u001b[0m\n\u001b[1;32m    766\u001b[0m         \u001b[0;32mtry\u001b[0m\u001b[0;34m:\u001b[0m\u001b[0;34m\u001b[0m\u001b[0;34m\u001b[0m\u001b[0m\n\u001b[0;32m--> 767\u001b[0;31m             \u001b[0mresult\u001b[0m \u001b[0;34m=\u001b[0m \u001b[0mself\u001b[0m\u001b[0;34m.\u001b[0m\u001b[0mindex\u001b[0m\u001b[0;34m.\u001b[0m\u001b[0mget_value\u001b[0m\u001b[0;34m(\u001b[0m\u001b[0mself\u001b[0m\u001b[0;34m,\u001b[0m \u001b[0mkey\u001b[0m\u001b[0;34m)\u001b[0m\u001b[0;34m\u001b[0m\u001b[0;34m\u001b[0m\u001b[0m\n\u001b[0m\u001b[1;32m    768\u001b[0m \u001b[0;34m\u001b[0m\u001b[0m\n\u001b[1;32m    769\u001b[0m             \u001b[0;32mif\u001b[0m \u001b[0;32mnot\u001b[0m \u001b[0mis_scalar\u001b[0m\u001b[0;34m(\u001b[0m\u001b[0mresult\u001b[0m\u001b[0;34m)\u001b[0m\u001b[0;34m:\u001b[0m\u001b[0;34m\u001b[0m\u001b[0;34m\u001b[0m\u001b[0m\n",
      "\u001b[0;32m/Library/Frameworks/Python.framework/Versions/3.7/lib/python3.7/site-packages/pandas/core/indexes/base.py\u001b[0m in \u001b[0;36mget_value\u001b[0;34m(self, series, key)\u001b[0m\n\u001b[1;32m   3116\u001b[0m         \u001b[0;32mtry\u001b[0m\u001b[0;34m:\u001b[0m\u001b[0;34m\u001b[0m\u001b[0;34m\u001b[0m\u001b[0m\n\u001b[1;32m   3117\u001b[0m             return self._engine.get_value(s, k,\n\u001b[0;32m-> 3118\u001b[0;31m                                           tz=getattr(series.dtype, 'tz', None))\n\u001b[0m\u001b[1;32m   3119\u001b[0m         \u001b[0;32mexcept\u001b[0m \u001b[0mKeyError\u001b[0m \u001b[0;32mas\u001b[0m \u001b[0me1\u001b[0m\u001b[0;34m:\u001b[0m\u001b[0;34m\u001b[0m\u001b[0;34m\u001b[0m\u001b[0m\n\u001b[1;32m   3120\u001b[0m             \u001b[0;32mif\u001b[0m \u001b[0mlen\u001b[0m\u001b[0;34m(\u001b[0m\u001b[0mself\u001b[0m\u001b[0;34m)\u001b[0m \u001b[0;34m>\u001b[0m \u001b[0;36m0\u001b[0m \u001b[0;32mand\u001b[0m \u001b[0mself\u001b[0m\u001b[0;34m.\u001b[0m\u001b[0minferred_type\u001b[0m \u001b[0;32min\u001b[0m \u001b[0;34m[\u001b[0m\u001b[0;34m'integer'\u001b[0m\u001b[0;34m,\u001b[0m \u001b[0;34m'boolean'\u001b[0m\u001b[0;34m]\u001b[0m\u001b[0;34m:\u001b[0m\u001b[0;34m\u001b[0m\u001b[0;34m\u001b[0m\u001b[0m\n",
      "\u001b[0;32mpandas/_libs/index.pyx\u001b[0m in \u001b[0;36mpandas._libs.index.IndexEngine.get_value\u001b[0;34m()\u001b[0m\n",
      "\u001b[0;32mpandas/_libs/index.pyx\u001b[0m in \u001b[0;36mpandas._libs.index.IndexEngine.get_value\u001b[0;34m()\u001b[0m\n",
      "\u001b[0;32mpandas/_libs/index.pyx\u001b[0m in \u001b[0;36mpandas._libs.index.IndexEngine.get_loc\u001b[0;34m()\u001b[0m\n",
      "\u001b[0;32mpandas/_libs/hashtable_class_helper.pxi\u001b[0m in \u001b[0;36mpandas._libs.hashtable.Int64HashTable.get_item\u001b[0;34m()\u001b[0m\n",
      "\u001b[0;32mpandas/_libs/hashtable_class_helper.pxi\u001b[0m in \u001b[0;36mpandas._libs.hashtable.Int64HashTable.get_item\u001b[0;34m()\u001b[0m\n",
      "\u001b[0;31mKeyError\u001b[0m: 1"
     ]
    }
   ],
   "source": [
    "SVC_pipeline.predict([X_test[1]])"
   ]
  }
 ],
 "metadata": {
  "kernelspec": {
   "display_name": "Python 3",
   "language": "python",
   "name": "python3"
  },
  "language_info": {
   "codemirror_mode": {
    "name": "ipython",
    "version": 3
   },
   "file_extension": ".py",
   "mimetype": "text/x-python",
   "name": "python",
   "nbconvert_exporter": "python",
   "pygments_lexer": "ipython3",
   "version": "3.7.1"
  }
 },
 "nbformat": 4,
 "nbformat_minor": 2
}
