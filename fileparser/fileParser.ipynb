{
 "cells": [
  {
   "cell_type": "code",
   "execution_count": 55,
   "metadata": {},
   "outputs": [],
   "source": [
    "import pandas as pd\n",
    "import bson\n",
    "#unpack the files Andrea sent and for annotated_videos_and_comments.zip \n",
    "#name the folder that you unpack \"dumpcommentsvideos\"\n",
    "#for the youtube.zip name it \"dumpyoutube\"\n",
    "\n",
    "#annotated comments and videos\n",
    "comments = \"dumpcommentsvideos/youtube3/annotated_comments.bson\"\n",
    "videos = \"dumpcommentsvideos/youtube3/annotated_videos.bson\"\n",
    "\n",
    "\n",
    "with open(comments,'rb') as b:\n",
    "    dfcomments = pd.DataFrame(bson.decode_all(b.read()))\n",
    "with open(videos,'rb') as b:\n",
    "    dfvideos = pd.DataFrame(bson.decode_all(b.read()))\n"
   ]
  },
  {
   "cell_type": "code",
   "execution_count": null,
   "metadata": {},
   "outputs": [],
   "source": []
  },
  {
   "cell_type": "code",
   "execution_count": 56,
   "metadata": {},
   "outputs": [],
   "source": [
    "#annotated youtube videos\n",
    "ytcomments = \"dumpyoutube/youtube3/comments.bson\"\n",
    "ytcomposers = \"dumpyoutube/youtube3/composers.bson\"\n",
    "ytcompositions = \"dumpyoutube/youtube3/compositions.bson\"\n",
    "ytvideos = \"dumpyoutube/youtube3/videos.bson\"\n",
    "\n",
    "with open(ytcomments,'rb') as b:\n",
    "    dfytcomments = pd.DataFrame(bson.decode_all(b.read()))\n",
    "with open(ytcomposers,'rb') as b:\n",
    "    dfytcomposers = pd.DataFrame(bson.decode_all(b.read()))\n",
    "with open(ytcompositions,'rb') as b:\n",
    "    dfytcompositions = pd.DataFrame(bson.decode_all(b.read()))\n",
    "with open(ytvideos,'rb') as b:\n",
    "    dfytvideos = pd.DataFrame(bson.decode_all(b.read()))"
   ]
  },
  {
   "cell_type": "code",
   "execution_count": 88,
   "metadata": {},
   "outputs": [
    {
     "name": "stdout",
     "output_type": "stream",
     "text": [
      "mkdir: output/annotated comments videos: File exists\n",
      "mkdir: output/annotated youtube videos: File exists\n"
     ]
    }
   ],
   "source": [
    "#writing to csv\n",
    "!mkdir output/annotated\\ comments\\ videos\n",
    "!mkdir output/annotated\\ youtube\\ videos\n",
    "\n",
    "dfcomments.to_csv(r\"output/annotated comments videos/annotatedcomments.csv\",index=False)\n",
    "dfvideos.to_csv(r\"output/annotated comments videos/annotatedvideos.csv\",index=False)\n",
    "dfytcomments.to_csv(r\"output/annotated youtube videos/ytcomments.csv\",index=False)\n",
    "dfytcomposers.to_csv(r\"output/annotated youtube videos/ytcomposers.csv\",index=False)\n",
    "dfytcompositions.to_csv(r\"output/annotated youtube videos/ytcompositions.csv\",index=False)\n",
    "dfytvideos.to_csv(r\"output/annotated youtube videos/ytvideos.csv\",index=False)"
   ]
  },
  {
   "cell_type": "code",
   "execution_count": null,
   "metadata": {},
   "outputs": [],
   "source": []
  },
  {
   "cell_type": "code",
   "execution_count": 154,
   "metadata": {},
   "outputs": [],
   "source": [
    "dfytdata = pd.read_csv(\"output/annotated youtube videos/ytvideos.csv\", encoding=\"utf8\")\n",
    "trainingdata = dfytdata[[\"video_url\",\"video_query\"]]\n",
    "trainingdata.loc[:,\"video_url\"]=trainingdata['video_url'].str.replace('watch\\?v=','embed/')\n",
    "trainingdata.loc[:,\"video_query\"]=trainingdata['video_query'].str.replace(\"+\",\" \")"
   ]
  },
  {
   "cell_type": "code",
   "execution_count": 155,
   "metadata": {},
   "outputs": [],
   "source": [
    "youtubevideodata=trainingdata\n",
    "youtubevideodata=youtubevideodata.sample(100)"
   ]
  },
  {
   "cell_type": "code",
   "execution_count": 156,
   "metadata": {},
   "outputs": [],
   "source": [
    "import urllib\n",
    "#parsing to utf8\n",
    "for i in range(0,len(youtubevideodata[\"video_query\"])):\n",
    "    word = urllib.parse.unquote(youtubevideodata[\"video_query\"].iloc[i])\n",
    "    youtubevideodata[\"video_query\"].iloc[i] = word\n"
   ]
  },
  {
   "cell_type": "code",
   "execution_count": 157,
   "metadata": {},
   "outputs": [
    {
     "name": "stdout",
     "output_type": "stream",
     "text": [
      "mkdir: output/sample: File exists\r\n"
     ]
    }
   ],
   "source": [
    "!mkdir output/sample\n",
    "youtubevideodata.to_csv(r\"output/sample/ytvideos.csv\",index=False)"
   ]
  },
  {
   "cell_type": "code",
   "execution_count": null,
   "metadata": {},
   "outputs": [],
   "source": []
  }
 ],
 "metadata": {
  "kernelspec": {
   "display_name": "Python 3",
   "language": "python",
   "name": "python3"
  },
  "language_info": {
   "codemirror_mode": {
    "name": "ipython",
    "version": 3
   },
   "file_extension": ".py",
   "mimetype": "text/x-python",
   "name": "python",
   "nbconvert_exporter": "python",
   "pygments_lexer": "ipython3",
   "version": "3.7.1"
  }
 },
 "nbformat": 4,
 "nbformat_minor": 2
}
